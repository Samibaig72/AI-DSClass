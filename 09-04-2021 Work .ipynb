{
 "cells": [
  {
   "cell_type": "code",
   "execution_count": 1,
   "metadata": {},
   "outputs": [],
   "source": [
    "import numpy as np"
   ]
  },
  {
   "cell_type": "code",
   "execution_count": 2,
   "metadata": {},
   "outputs": [],
   "source": [
    "import pandas as pd\n"
   ]
  },
  {
   "cell_type": "code",
   "execution_count": 5,
   "metadata": {},
   "outputs": [
    {
     "name": "stdout",
     "output_type": "stream",
     "text": [
      "Collecting CurrencyConverter\n",
      "  Downloading CurrencyConverter-0.16-py2.py3-none-any.whl (518 kB)\n",
      "Installing collected packages: CurrencyConverter\n",
      "Successfully installed CurrencyConverter-0.16\n",
      "Note: you may need to restart the kernel to use updated packages.\n"
     ]
    }
   ],
   "source": [
    "pip install CurrencyConverter"
   ]
  },
  {
   "cell_type": "code",
   "execution_count": 4,
   "metadata": {},
   "outputs": [
    {
     "data": {
      "text/html": [
       "<div>\n",
       "<style scoped>\n",
       "    .dataframe tbody tr th:only-of-type {\n",
       "        vertical-align: middle;\n",
       "    }\n",
       "\n",
       "    .dataframe tbody tr th {\n",
       "        vertical-align: top;\n",
       "    }\n",
       "\n",
       "    .dataframe thead th {\n",
       "        text-align: right;\n",
       "    }\n",
       "</style>\n",
       "<table border=\"1\" class=\"dataframe\">\n",
       "  <thead>\n",
       "    <tr style=\"text-align: right;\">\n",
       "      <th></th>\n",
       "      <th>CNIC</th>\n",
       "      <th>TransactionID</th>\n",
       "      <th>Transaction Date</th>\n",
       "      <th>Description</th>\n",
       "      <th>City</th>\n",
       "      <th>Amount</th>\n",
       "      <th>Currency</th>\n",
       "    </tr>\n",
       "  </thead>\n",
       "  <tbody>\n",
       "    <tr>\n",
       "      <th>0</th>\n",
       "      <td>752</td>\n",
       "      <td>1</td>\n",
       "      <td>1690-01-31</td>\n",
       "      <td>TopUP</td>\n",
       "      <td>Islamabad</td>\n",
       "      <td>816064</td>\n",
       "      <td>036</td>\n",
       "    </tr>\n",
       "    <tr>\n",
       "      <th>1</th>\n",
       "      <td>898</td>\n",
       "      <td>1</td>\n",
       "      <td>1690-02-28</td>\n",
       "      <td>FT</td>\n",
       "      <td>Islamabad</td>\n",
       "      <td>503400</td>\n",
       "      <td>106</td>\n",
       "    </tr>\n",
       "    <tr>\n",
       "      <th>2</th>\n",
       "      <td>644</td>\n",
       "      <td>1</td>\n",
       "      <td>1690-03-31</td>\n",
       "      <td>IBFT</td>\n",
       "      <td>Lahore</td>\n",
       "      <td>333980</td>\n",
       "      <td>036</td>\n",
       "    </tr>\n",
       "    <tr>\n",
       "      <th>3</th>\n",
       "      <td>683</td>\n",
       "      <td>1</td>\n",
       "      <td>1690-04-30</td>\n",
       "      <td>FT</td>\n",
       "      <td>Islamabad</td>\n",
       "      <td>536562</td>\n",
       "      <td>104</td>\n",
       "    </tr>\n",
       "    <tr>\n",
       "      <th>4</th>\n",
       "      <td>222</td>\n",
       "      <td>1</td>\n",
       "      <td>1690-05-31</td>\n",
       "      <td>TopUP</td>\n",
       "      <td>Lahore</td>\n",
       "      <td>682842</td>\n",
       "      <td>106</td>\n",
       "    </tr>\n",
       "    <tr>\n",
       "      <th>...</th>\n",
       "      <td>...</td>\n",
       "      <td>...</td>\n",
       "      <td>...</td>\n",
       "      <td>...</td>\n",
       "      <td>...</td>\n",
       "      <td>...</td>\n",
       "      <td>...</td>\n",
       "    </tr>\n",
       "    <tr>\n",
       "      <th>4995</th>\n",
       "      <td>748</td>\n",
       "      <td>1</td>\n",
       "      <td>2106-04-30</td>\n",
       "      <td>TopUP</td>\n",
       "      <td>Islamabad</td>\n",
       "      <td>799259</td>\n",
       "      <td>051</td>\n",
       "    </tr>\n",
       "    <tr>\n",
       "      <th>4996</th>\n",
       "      <td>701</td>\n",
       "      <td>1</td>\n",
       "      <td>2106-05-31</td>\n",
       "      <td>TopUP</td>\n",
       "      <td>Karachi</td>\n",
       "      <td>45355</td>\n",
       "      <td>106</td>\n",
       "    </tr>\n",
       "    <tr>\n",
       "      <th>4997</th>\n",
       "      <td>744</td>\n",
       "      <td>1</td>\n",
       "      <td>2106-06-30</td>\n",
       "      <td>IBFT</td>\n",
       "      <td>Islamabad</td>\n",
       "      <td>654292</td>\n",
       "      <td>106</td>\n",
       "    </tr>\n",
       "    <tr>\n",
       "      <th>4998</th>\n",
       "      <td>488</td>\n",
       "      <td>1</td>\n",
       "      <td>2106-07-31</td>\n",
       "      <td>TopUP</td>\n",
       "      <td>Karachi</td>\n",
       "      <td>441705</td>\n",
       "      <td>051</td>\n",
       "    </tr>\n",
       "    <tr>\n",
       "      <th>4999</th>\n",
       "      <td>602</td>\n",
       "      <td>1</td>\n",
       "      <td>2106-08-31</td>\n",
       "      <td>TopUP</td>\n",
       "      <td>Karachi</td>\n",
       "      <td>943438</td>\n",
       "      <td>036</td>\n",
       "    </tr>\n",
       "  </tbody>\n",
       "</table>\n",
       "<p>5000 rows × 7 columns</p>\n",
       "</div>"
      ],
      "text/plain": [
       "      CNIC  TransactionID Transaction Date Description       City  Amount  \\\n",
       "0      752              1       1690-01-31       TopUP  Islamabad  816064   \n",
       "1      898              1       1690-02-28          FT  Islamabad  503400   \n",
       "2      644              1       1690-03-31        IBFT     Lahore  333980   \n",
       "3      683              1       1690-04-30          FT  Islamabad  536562   \n",
       "4      222              1       1690-05-31       TopUP     Lahore  682842   \n",
       "...    ...            ...              ...         ...        ...     ...   \n",
       "4995   748              1       2106-04-30       TopUP  Islamabad  799259   \n",
       "4996   701              1       2106-05-31       TopUP    Karachi   45355   \n",
       "4997   744              1       2106-06-30        IBFT  Islamabad  654292   \n",
       "4998   488              1       2106-07-31       TopUP    Karachi  441705   \n",
       "4999   602              1       2106-08-31       TopUP    Karachi  943438   \n",
       "\n",
       "     Currency  \n",
       "0         036  \n",
       "1         106  \n",
       "2         036  \n",
       "3         104  \n",
       "4         106  \n",
       "...       ...  \n",
       "4995      051  \n",
       "4996      106  \n",
       "4997      106  \n",
       "4998      051  \n",
       "4999      036  \n",
       "\n",
       "[5000 rows x 7 columns]"
      ]
     },
     "execution_count": 4,
     "metadata": {},
     "output_type": "execute_result"
    }
   ],
   "source": [
    "#https://www.iban.com/currency-codes\n",
    "data_size = 5000\n",
    "df2 = pd.DataFrame(data2, columns= ['Code','Name','Value'])\n",
    " = pd.DataFrame({\"CNIC\": np.random.randint(1,1000, size=(data_size)),\n",
    "                   \"TransactionID\":np.random.randint(1,2, size=(data_size)),\n",
    "                  \"Transaction Date\":pd.date_range('1690-01-01', periods=data_size, freq=\"M\"),\n",
    "                   \"Description\":np.random.choice([\"TopUP\",\"IBFT\",\"FT\"], size=(data_size)),\n",
    "                             \"City\":np.random.choice([\"Karachi\",\"Islamabad\",\"Lahore\"], size=(data_size)),\n",
    "                            \"Amount\": np.random.randint(1,1000000, size=(data_size)),\n",
    "                            \"Currency\":np.random.choice(['036',\"051\",\"104\",'106'], size=(data_size))})\n",
    "transactions"
   ]
  },
  {
   "cell_type": "code",
   "execution_count": 24,
   "metadata": {},
   "outputs": [
    {
     "data": {
      "text/plain": [
       "[               Country         Currency Code  Number\n",
       " 0          AFGHANISTAN          Afghani  AFN   971.0\n",
       " 1        ÅLAND ISLANDS             Euro  EUR   978.0\n",
       " 2              ALBANIA              Lek  ALL     8.0\n",
       " 3              ALGERIA   Algerian Dinar  DZD    12.0\n",
       " 4       AMERICAN SAMOA        US Dollar  USD   840.0\n",
       " ..                 ...              ...  ...     ...\n",
       " 263  WALLIS AND FUTUNA        CFP Franc  XPF   953.0\n",
       " 264     WESTERN SAHARA  Moroccan Dirham  MAD   504.0\n",
       " 265              YEMEN      Yemeni Rial  YER   886.0\n",
       " 266             ZAMBIA   Zambian Kwacha  ZMW   967.0\n",
       " 267           ZIMBABWE  Zimbabwe Dollar  ZWL   932.0\n",
       " \n",
       " [268 rows x 4 columns]]"
      ]
     },
     "execution_count": 24,
     "metadata": {},
     "output_type": "execute_result"
    }
   ],
   "source": [
    "df = pd.read_html('https://www.iban.com/currency-codes')\n",
    "df"
   ]
  },
  {
   "cell_type": "code",
   "execution_count": 21,
   "metadata": {},
   "outputs": [
    {
     "ename": "NameError",
     "evalue": "name 'data2' is not defined",
     "output_type": "error",
     "traceback": [
      "\u001b[1;31m---------------------------------------------------------------------------\u001b[0m",
      "\u001b[1;31mNameError\u001b[0m                                 Traceback (most recent call last)",
      "\u001b[1;32m<ipython-input-21-64dc974cdb66>\u001b[0m in \u001b[0;36m<module>\u001b[1;34m\u001b[0m\n\u001b[1;32m----> 1\u001b[1;33m \u001b[0mdf2\u001b[0m \u001b[1;33m=\u001b[0m \u001b[0mpd\u001b[0m\u001b[1;33m.\u001b[0m\u001b[0mDataFrame\u001b[0m\u001b[1;33m(\u001b[0m\u001b[0mdata2\u001b[0m\u001b[1;33m,\u001b[0m \u001b[0mcolumns\u001b[0m\u001b[1;33m=\u001b[0m \u001b[1;33m[\u001b[0m\u001b[0mdf\u001b[0m\u001b[1;33m]\u001b[0m\u001b[1;33m)\u001b[0m\u001b[1;33m\u001b[0m\u001b[1;33m\u001b[0m\u001b[0m\n\u001b[0m",
      "\u001b[1;31mNameError\u001b[0m: name 'data2' is not defined"
     ]
    }
   ],
   "source": [
    "df2 = pd.DataFrame(data2, columns= [])\n"
   ]
  }
 ],
 "metadata": {
  "kernelspec": {
   "display_name": "Python 3",
   "language": "python",
   "name": "python3"
  },
  "language_info": {
   "codemirror_mode": {
    "name": "ipython",
    "version": 3
   },
   "file_extension": ".py",
   "mimetype": "text/x-python",
   "name": "python",
   "nbconvert_exporter": "python",
   "pygments_lexer": "ipython3",
   "version": "3.8.5"
  }
 },
 "nbformat": 4,
 "nbformat_minor": 4
}
